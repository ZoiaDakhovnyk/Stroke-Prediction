{
 "cells": [
  {
   "cell_type": "code",
   "execution_count": 2,
   "id": "88c8a447-3921-4567-a907-78e77eac4047",
   "metadata": {},
   "outputs": [
    {
     "name": "stdout",
     "output_type": "stream",
     "text": [
      "data:     gender       age  hypertension  heart_disease  ever_married  work_type  \\\n",
      "0       1  1.661612             0              1             1          2   \n",
      "1       0  1.616483             0              1             1          2   \n",
      "2       0  0.307743             1              0             1          3   \n",
      "3       0  0.759032             0              0             0          2   \n",
      "4       0  1.255451             0              0             1          0   \n",
      "5       1  0.713903             0              0             1          2   \n",
      "6       1 -0.053289             0              0             1          2   \n",
      "7       1  1.751870             0              1             1          2   \n",
      "8       0  0.894419             0              0             1          2   \n",
      "9       0  1.435967             0              1             0          3   \n",
      "\n",
      "   Residence_type  avg_glucose_level       bmi  smoking_status  \n",
      "0               0           0.049221  0.455237               2  \n",
      "1               1           2.534291 -0.088090               2  \n",
      "2               0           1.461876  0.253069               2  \n",
      "3               1          -0.334441  1.124920               2  \n",
      "4               0           2.071370 -0.820951               3  \n",
      "5               0           2.481221 -0.100726               1  \n",
      "6               0          -0.467918 -0.441885               0  \n",
      "7               1           0.944737 -0.315530               3  \n",
      "8               1          -0.295845 -0.100726               1  \n",
      "9               1           0.137899 -0.100726               0  \n",
      "predict:  [0, 0, 0, 0, 0, 0, 0, 0, 0, 0]\n",
      "accuracy:  0.949119373776908\n"
     ]
    }
   ],
   "source": [
    "import json\n",
    "import requests\n",
    "import pandas as pd\n",
    "from sklearn.ensemble import RandomForestClassifier\n",
    "from sklearn.metrics import accuracy_score\n",
    "\n",
    "from utils import DataLoader, Estimator \n",
    "from settings. constants import TRAIN_CSV, VAL_CSV\n",
    "\n",
    "with open('settings/specifications.json') as f:\n",
    "    specifications = json.load(f)\n",
    "    \n",
    "info = specifications['description']\n",
    "x_columns, y_column, metrics = info['X'], info['y'], info['metrics']\n",
    "\n",
    "train_set = pd.read_csv(TRAIN_CSV, header=0)\n",
    "val_set = pd.read_csv(VAL_CSV, header=0)\n",
    "\n",
    "train_x, train_y = train_set[x_columns], train_set[y_column]\n",
    "val_x, val_y = val_set[x_columns], val_set[y_column]\n",
    "\n",
    "loader = DataLoader()\n",
    "loader.fit(val_x)\n",
    "val_processed = loader.load_data()\n",
    "print('data: ', val_processed[:10])\n",
    "\n",
    "req_data = {'data': json.dumps(val_x.to_dict())}\n",
    "response = requests.get('http://127.0.0.1:8000/predict', data=req_data)\n",
    "api_predict = response.json()['prediction']\n",
    "print('predict: ', api_predict[:10])\n",
    "\n",
    "api_score = eval(metrics)(val_y, api_predict)\n",
    "print('accuracy: ', api_score)"
   ]
  },
  {
   "cell_type": "code",
   "execution_count": null,
   "id": "0418f909-a526-4f0a-b886-87e09ce8ae29",
   "metadata": {},
   "outputs": [],
   "source": []
  }
 ],
 "metadata": {
  "kernelspec": {
   "display_name": "Python 3 (ipykernel)",
   "language": "python",
   "name": "python3"
  },
  "language_info": {
   "codemirror_mode": {
    "name": "ipython",
    "version": 3
   },
   "file_extension": ".py",
   "mimetype": "text/x-python",
   "name": "python",
   "nbconvert_exporter": "python",
   "pygments_lexer": "ipython3",
   "version": "3.8.18"
  }
 },
 "nbformat": 4,
 "nbformat_minor": 5
}
